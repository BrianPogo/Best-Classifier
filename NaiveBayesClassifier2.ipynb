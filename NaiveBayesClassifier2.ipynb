{
 "cells": [
  {
   "cell_type": "code",
   "execution_count": 6,
   "id": "7b92ae22",
   "metadata": {},
   "outputs": [
    {
     "data": {
      "image/png": "[encoded data removed]",
      "text/plain": [
       "<Figure size 432x288 with 1 Axes>"
      ]
     },
     "metadata": {
      "needs_background": "light"
     },
     "output_type": "display_data"
    },
    {
     "name": "stdout",
     "output_type": "stream",
     "text": [
      "Gaussian Model score: 0.6535\n",
      "Categorical Model score: 0.7034999999999999\n",
      "Binomial Model score: 0.6880000000000001\n",
      "Multinomial Model score: 0.5145000000000001\n",
      "Complement Model score: 0.5005\n",
      "Fitting 20 folds for each of 5 candidates, totalling 100 fits\n",
      "{'min_categories': 2}\n",
      "0.7034999999999999\n",
      "{'mean_fit_time': array([0.00397069, 0.00457033, 0.00413642, 0.00373988, 0.00437984]), 'std_fit_time': array([0.00234112, 0.00252127, 0.00254554, 0.00141325, 0.00222061]), 'mean_score_time': array([0.00080096, 0.00123911, 0.00130643, 0.00077257, 0.00108514]), 'std_score_time': array([0.00017151, 0.00105688, 0.00101793, 0.00018839, 0.00090951]), 'param_min_categories': masked_array(data=[2, 12, 20, 32, 46],\n",
      "             mask=[False, False, False, False, False],\n",
      "       fill_value='?',\n",
      "            dtype=object), 'params': [{'min_categories': 2}, {'min_categories': 12}, {'min_categories': 20}, {'min_categories': 32}, {'min_categories': 46}], 'split0_test_score': array([0.695, 0.695, 0.695, 0.695, 0.695]), 'split1_test_score': array([0.68, 0.68, 0.68, 0.68, 0.68]), 'split2_test_score': array([0.675, 0.675, 0.675, 0.675, 0.675]), 'split3_test_score': array([0.745, 0.745, 0.745, 0.745, 0.745]), 'split4_test_score': array([0.725, 0.725, 0.725, 0.725, 0.725]), 'split5_test_score': array([0.72, 0.72, 0.72, 0.72, 0.72]), 'split6_test_score': array([0.655, 0.655, 0.655, 0.655, 0.655]), 'split7_test_score': array([0.705, 0.705, 0.705, 0.705, 0.705]), 'split8_test_score': array([0.685, 0.685, 0.68 , 0.68 , 0.68 ]), 'split9_test_score': array([0.75, 0.75, 0.75, 0.75, 0.75]), 'split10_test_score': array([0.705, 0.705, 0.705, 0.705, 0.705]), 'split11_test_score': array([0.7, 0.7, 0.7, 0.7, 0.7]), 'split12_test_score': array([0.695, 0.695, 0.695, 0.695, 0.695]), 'split13_test_score': array([0.68, 0.68, 0.68, 0.68, 0.68]), 'split14_test_score': array([0.735, 0.735, 0.735, 0.735, 0.735]), 'split15_test_score': array([0.675, 0.675, 0.675, 0.675, 0.675]), 'split16_test_score': array([0.7, 0.7, 0.7, 0.7, 0.7]), 'split17_test_score': array([0.715, 0.715, 0.715, 0.715, 0.715]), 'split18_test_score': array([0.69, 0.69, 0.69, 0.69, 0.69]), 'split19_test_score': array([0.74, 0.74, 0.74, 0.74, 0.74]), 'mean_test_score': array([0.7035 , 0.7035 , 0.70325, 0.70325, 0.70325]), 'std_test_score': array([0.02535251, 0.02535251, 0.02555753, 0.02555753, 0.02555753]), 'rank_test_score': array([1, 1, 3, 3, 3], dtype=int32)}\n",
      "Hyper-parameter tuned Categorical model score: 0.675\n",
      "Enter the platform being used: 1-Android,2-iOS,3-Windows,4-Others1\n",
      "Enter the prior purchase date:1,2,33\n",
      "It is predicted that the label will be [0]\n",
      "Predicted probability of purchasing is 0.310106352113829\n"
     ]
    }
   ],
   "source": [
    "#Importing necessary packages for the code.\n",
    "import pandas as pd\n",
    "import numpy as np\n",
    "import matplotlib.pyplot as plt\n",
    "from matplotlib.patches import Rectangle\n",
    "from sklearn.model_selection import train_test_split\n",
    "from sklearn.model_selection import RepeatedStratifiedKFold\n",
    "from sklearn.model_selection import cross_val_score\n",
    "from sklearn.model_selection import GridSearchCV\n",
    "from sklearn.model_selection import RandomizedSearchCV\n",
    "from sklearn.naive_bayes import GaussianNB\n",
    "from sklearn.naive_bayes import CategoricalNB\n",
    "from sklearn.naive_bayes import BernoulliNB\n",
    "from sklearn.naive_bayes import MultinomialNB\n",
    "from sklearn.naive_bayes import ComplementNB\n",
    "\n",
    "#Importing data into and converting it accordingly.\n",
    "#To assist with the combining of the two columns, the data will be encoded with a pre-processor.\n",
    "from sklearn import preprocessing\n",
    "\n",
    "#Data from 'Purchase_Data' is moved into a dataframe and subsequently moved into arrays for\n",
    "#further operations. The data is also reshaped to help with classifier operations.\n",
    "purchase=pd.read_excel(\"Purchase_Data.xls\")\n",
    "platform=np.array(purchase.platform)\n",
    "platform = platform.reshape(-1,1)\n",
    "prior=np.array(purchase.Prior_purchase)\n",
    "prior = prior.reshape(-1,1)\n",
    "#Creating labelEncoder\n",
    "le = preprocessing.LabelEncoder()\n",
    "#Converting string labels into numbers.\n",
    "platform_encoded=le.fit_transform(platform)\n",
    "prior_encoded=le.fit_transform(prior)\n",
    "X = list(zip(platform_encoded,prior_encoded))\n",
    "X=np.asarray(X)\n",
    "y = np.array(purchase.label)\n",
    "y=np.ravel(y)\n",
    "np.random.seed(32951094)\n",
    "#Plotting the histogram for the data.\n",
    "plt.hist(X,edgecolor='black')\n",
    "plt.xlabel('Platforms/Prior Purchase')\n",
    "plt.ylabel('Count')\n",
    "plt.title('Histogram of Platforms & Prior Purchase')\n",
    "plt.xlim(0,4)\n",
    "plt.locator_params(axis='x', integer=True)\n",
    "plt.show()\n",
    "\n",
    "#To have one small set of data will be untouched, a validation set is made as well.\n",
    "X_train, X_test, y_train, y_test = train_test_split(X, y, train_size=0.8)\n",
    "X_train,X_valid,y_train,y_valid=train_test_split(X_train,y_train,train_size=0.9)\n",
    "cv = RepeatedStratifiedKFold(n_splits=5,n_repeats=4,random_state=32951094)\n",
    "\n",
    "#Testing accuracy performances of all models with cross_val_score.\n",
    "GModel=GaussianNB()\n",
    "CModel=CategoricalNB()\n",
    "BModel=BernoulliNB()\n",
    "MModel=MultinomialNB()\n",
    "CoModel=ComplementNB()\n",
    "\n",
    "scoring='accuracy'\n",
    "GaussianScore = cross_val_score(GModel, X, y, scoring=scoring, cv=cv, n_jobs=-1, error_score='raise')\n",
    "CategoricalScore = cross_val_score(CModel, X, y, scoring=scoring, cv=cv, n_jobs=-1, error_score='raise')\n",
    "BinomialScore = cross_val_score(BModel, X, y, scoring=scoring, cv=cv, n_jobs=-1, error_score='raise')\n",
    "MScore = cross_val_score(MModel, X, y, scoring=scoring, cv=cv, n_jobs=-1, error_score='raise')\n",
    "CoScore = cross_val_score(CoModel, X, y, scoring=scoring, cv=cv, n_jobs=-1, error_score='raise')\n",
    "\n",
    "print(\"Gaussian Model score:\", GaussianScore.mean())\n",
    "print(\"Categorical Model score:\", CategoricalScore.mean())\n",
    "print(\"Binomial Model score:\", BinomialScore.mean())\n",
    "print(\"Multinomial Model score:\", MScore.mean())\n",
    "print(\"Complement Model score:\", CoScore.mean())\n",
    "\n",
    "#Looking for the best hyperparameter to tune, to improve model performance.\n",
    "model=CategoricalNB()\n",
    "model.get_params()\n",
    "params_NB = {'min_categories': [2,12,20,32,46]}\n",
    "clf = GridSearchCV(     estimator = model,\n",
    "                              param_grid=params_NB,\n",
    "                              cv=cv, scoring=scoring,verbose=1,n_jobs=-1\n",
    "                           )\n",
    "\n",
    "clf.fit(X,y)\n",
    "print(clf.best_params_)\n",
    "print(clf.best_score_)\n",
    "print(clf.cv_results_)\n",
    "\n",
    "#The hyper-parameter tuned model is now validated for accuracy on the unseen data.\n",
    "model=CategoricalNB(min_categories=2)\n",
    "model.fit(X,y)\n",
    "m_scores = cross_val_score(model, X_valid, y_valid, scoring='accuracy', cv=cv, n_jobs=-1, error_score='raise')\n",
    "print(\"Hyper-parameter tuned Categorical model score:\", m_scores.mean())\n",
    "\n",
    "#The model is now used to be a classifier.\n",
    "class1=input(\"Enter the platform being used: 1-Android,2-iOS,3-Windows,4-Others\")\n",
    "class2=input(\"Enter the prior purchase date:1,2,3\")\n",
    "independant= np.array([class1,class2])\n",
    "independant=independant.reshape(1,-1)\n",
    "\n",
    "val=clf.predict(independant)\n",
    "yprob=(clf.predict_proba(independant))\n",
    "\n",
    "print(\"It is predicted that the label will be\",val)\n",
    "print(\"Predicted probability of purchasing is\",format(yprob[0,1]))"
   ]
  },
  {
   "cell_type": "code",
   "execution_count": 7,
   "id": "11f3860b",
   "metadata": {},
   "outputs": [
    {
     "name": "stdout",
     "output_type": "stream",
     "text": [
      "Hyper-parameter tuned Categorical model score: 0.675\n"
     ]
    }
   ],
   "source": [
    "model=CategoricalNB(min_categories=2)\n",
    "model.fit(X,y)\n",
    "m_scores = cross_val_score(model, X_valid, y_valid, scoring='accuracy', cv=cv, n_jobs=-1, error_score='raise')\n",
    "print(\"Hyper-parameter tuned Categorical model score:\", m_scores.mean())"
   ]
  },
  {
   "cell_type": "code",
   "execution_count": 8,
   "id": "684a2dde",
   "metadata": {},
   "outputs": [
    {
     "name": "stdout",
     "output_type": "stream",
     "text": [
      "Enter the platform being used: 1-Android,2-iOS,3-Windows,4-Others1\n",
      "Enter the prior purchase date:1,2,33\n",
      "It is predicted that the label will be [0]\n",
      "Predicted probability of purchasing is 0.310106352113829\n"
     ]
    }
   ],
   "source": [
    "#The model is now used to be a classifier.\n",
    "class1=input(\"Enter the platform being used: 1-Android,2-iOS,3-Windows,4-Others\")\n",
    "class2=input(\"Enter the prior purchase date:1,2,3\")\n",
    "independant= np.array([class1,class2])\n",
    "independant=independant.reshape(1,-1)\n",
    "\n",
    "val=clf.predict(independant)\n",
    "yprob=(clf.predict_proba(independant))\n",
    "\n",
    "print(\"It is predicted that the label will be\",val)\n",
    "print(\"Predicted probability of purchasing is\",format(yprob[0,1]))"
   ]
  },
  {
   "cell_type": "code",
   "execution_count": null,
   "id": "307c1283",
   "metadata": {},
   "outputs": [],
   "source": []
  }
 ],
 "metadata": {
  "kernelspec": {
   "display_name": "Python 3",
   "language": "python",
   "name": "python3"
  },
  "language_info": {
   "codemirror_mode": {
    "name": "ipython",
    "version": 3
   },
   "file_extension": ".py",
   "mimetype": "text/x-python",
   "name": "python",
   "nbconvert_exporter": "python",
   "pygments_lexer": "ipython3",
   "version": "3.8.8"
  }
 },
 "nbformat": 4,
 "nbformat_minor": 5
}
